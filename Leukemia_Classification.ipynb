{
  "cells": [
    {
      "cell_type": "markdown",
      "metadata": {
        "id": "view-in-github",
        "colab_type": "text"
      },
      "source": [
        "<a href=\"https://colab.research.google.com/github/Khaled97Otour/Leukemia-Classification/blob/main/Leukemia_Classification.ipynb\" target=\"_parent\"><img src=\"https://colab.research.google.com/assets/colab-badge.svg\" alt=\"Open In Colab\"/></a>"
      ]
    },
    {
      "cell_type": "code",
      "execution_count": 1,
      "metadata": {
        "colab": {
          "base_uri": "https://localhost:8080/"
        },
        "id": "jqtcCrvYqIIp",
        "outputId": "29fb71ff-5e74-459f-956e-c9e587df59db"
      },
      "outputs": [
        {
          "output_type": "stream",
          "name": "stdout",
          "text": [
            "Looking in indexes: https://pypi.org/simple, https://us-python.pkg.dev/colab-wheels/public/simple/\n",
            "Collecting opendatasets\n",
            "  Downloading opendatasets-0.1.22-py3-none-any.whl (15 kB)\n",
            "Requirement already satisfied: kaggle in /usr/local/lib/python3.7/dist-packages (from opendatasets) (1.5.12)\n",
            "Requirement already satisfied: tqdm in /usr/local/lib/python3.7/dist-packages (from opendatasets) (4.64.1)\n",
            "Requirement already satisfied: click in /usr/local/lib/python3.7/dist-packages (from opendatasets) (7.1.2)\n",
            "Requirement already satisfied: urllib3 in /usr/local/lib/python3.7/dist-packages (from kaggle->opendatasets) (1.24.3)\n",
            "Requirement already satisfied: requests in /usr/local/lib/python3.7/dist-packages (from kaggle->opendatasets) (2.23.0)\n",
            "Requirement already satisfied: python-slugify in /usr/local/lib/python3.7/dist-packages (from kaggle->opendatasets) (6.1.2)\n",
            "Requirement already satisfied: certifi in /usr/local/lib/python3.7/dist-packages (from kaggle->opendatasets) (2022.9.24)\n",
            "Requirement already satisfied: python-dateutil in /usr/local/lib/python3.7/dist-packages (from kaggle->opendatasets) (2.8.2)\n",
            "Requirement already satisfied: six>=1.10 in /usr/local/lib/python3.7/dist-packages (from kaggle->opendatasets) (1.15.0)\n",
            "Requirement already satisfied: text-unidecode>=1.3 in /usr/local/lib/python3.7/dist-packages (from python-slugify->kaggle->opendatasets) (1.3)\n",
            "Requirement already satisfied: chardet<4,>=3.0.2 in /usr/local/lib/python3.7/dist-packages (from requests->kaggle->opendatasets) (3.0.4)\n",
            "Requirement already satisfied: idna<3,>=2.5 in /usr/local/lib/python3.7/dist-packages (from requests->kaggle->opendatasets) (2.10)\n",
            "Installing collected packages: opendatasets\n",
            "Successfully installed opendatasets-0.1.22\n"
          ]
        }
      ],
      "source": [
        "pip install opendatasets"
      ]
    },
    {
      "cell_type": "code",
      "execution_count": 2,
      "metadata": {
        "colab": {
          "base_uri": "https://localhost:8080/"
        },
        "id": "1K1ICv0VSBb6",
        "outputId": "0349c602-34d5-4a33-ce8b-8ced8287ee92"
      },
      "outputs": [
        {
          "output_type": "stream",
          "name": "stdout",
          "text": [
            "Looking in indexes: https://pypi.org/simple, https://us-python.pkg.dev/colab-wheels/public/simple/\n",
            "Requirement already satisfied: tensorflow in /usr/local/lib/python3.7/dist-packages (2.9.2)\n",
            "Requirement already satisfied: libclang>=13.0.0 in /usr/local/lib/python3.7/dist-packages (from tensorflow) (14.0.6)\n",
            "Requirement already satisfied: keras<2.10.0,>=2.9.0rc0 in /usr/local/lib/python3.7/dist-packages (from tensorflow) (2.9.0)\n",
            "Requirement already satisfied: six>=1.12.0 in /usr/local/lib/python3.7/dist-packages (from tensorflow) (1.15.0)\n",
            "Requirement already satisfied: astunparse>=1.6.0 in /usr/local/lib/python3.7/dist-packages (from tensorflow) (1.6.3)\n",
            "Requirement already satisfied: google-pasta>=0.1.1 in /usr/local/lib/python3.7/dist-packages (from tensorflow) (0.2.0)\n",
            "Requirement already satisfied: grpcio<2.0,>=1.24.3 in /usr/local/lib/python3.7/dist-packages (from tensorflow) (1.49.1)\n",
            "Requirement already satisfied: tensorflow-estimator<2.10.0,>=2.9.0rc0 in /usr/local/lib/python3.7/dist-packages (from tensorflow) (2.9.0)\n",
            "Requirement already satisfied: termcolor>=1.1.0 in /usr/local/lib/python3.7/dist-packages (from tensorflow) (2.0.1)\n",
            "Requirement already satisfied: typing-extensions>=3.6.6 in /usr/local/lib/python3.7/dist-packages (from tensorflow) (4.1.1)\n",
            "Requirement already satisfied: absl-py>=1.0.0 in /usr/local/lib/python3.7/dist-packages (from tensorflow) (1.2.0)\n",
            "Requirement already satisfied: h5py>=2.9.0 in /usr/local/lib/python3.7/dist-packages (from tensorflow) (3.1.0)\n",
            "Requirement already satisfied: setuptools in /usr/local/lib/python3.7/dist-packages (from tensorflow) (57.4.0)\n",
            "Requirement already satisfied: numpy>=1.20 in /usr/local/lib/python3.7/dist-packages (from tensorflow) (1.21.6)\n",
            "Requirement already satisfied: opt-einsum>=2.3.2 in /usr/local/lib/python3.7/dist-packages (from tensorflow) (3.3.0)\n",
            "Requirement already satisfied: flatbuffers<2,>=1.12 in /usr/local/lib/python3.7/dist-packages (from tensorflow) (1.12)\n",
            "Requirement already satisfied: wrapt>=1.11.0 in /usr/local/lib/python3.7/dist-packages (from tensorflow) (1.14.1)\n",
            "Requirement already satisfied: packaging in /usr/local/lib/python3.7/dist-packages (from tensorflow) (21.3)\n",
            "Requirement already satisfied: tensorflow-io-gcs-filesystem>=0.23.1 in /usr/local/lib/python3.7/dist-packages (from tensorflow) (0.27.0)\n",
            "Requirement already satisfied: gast<=0.4.0,>=0.2.1 in /usr/local/lib/python3.7/dist-packages (from tensorflow) (0.4.0)\n",
            "Requirement already satisfied: protobuf<3.20,>=3.9.2 in /usr/local/lib/python3.7/dist-packages (from tensorflow) (3.17.3)\n",
            "Requirement already satisfied: tensorboard<2.10,>=2.9 in /usr/local/lib/python3.7/dist-packages (from tensorflow) (2.9.1)\n",
            "Requirement already satisfied: keras-preprocessing>=1.1.1 in /usr/local/lib/python3.7/dist-packages (from tensorflow) (1.1.2)\n",
            "Requirement already satisfied: wheel<1.0,>=0.23.0 in /usr/local/lib/python3.7/dist-packages (from astunparse>=1.6.0->tensorflow) (0.37.1)\n",
            "Requirement already satisfied: cached-property in /usr/local/lib/python3.7/dist-packages (from h5py>=2.9.0->tensorflow) (1.5.2)\n",
            "Requirement already satisfied: markdown>=2.6.8 in /usr/local/lib/python3.7/dist-packages (from tensorboard<2.10,>=2.9->tensorflow) (3.4.1)\n",
            "Requirement already satisfied: tensorboard-data-server<0.7.0,>=0.6.0 in /usr/local/lib/python3.7/dist-packages (from tensorboard<2.10,>=2.9->tensorflow) (0.6.1)\n",
            "Requirement already satisfied: requests<3,>=2.21.0 in /usr/local/lib/python3.7/dist-packages (from tensorboard<2.10,>=2.9->tensorflow) (2.23.0)\n",
            "Requirement already satisfied: tensorboard-plugin-wit>=1.6.0 in /usr/local/lib/python3.7/dist-packages (from tensorboard<2.10,>=2.9->tensorflow) (1.8.1)\n",
            "Requirement already satisfied: google-auth<3,>=1.6.3 in /usr/local/lib/python3.7/dist-packages (from tensorboard<2.10,>=2.9->tensorflow) (1.35.0)\n",
            "Requirement already satisfied: google-auth-oauthlib<0.5,>=0.4.1 in /usr/local/lib/python3.7/dist-packages (from tensorboard<2.10,>=2.9->tensorflow) (0.4.6)\n",
            "Requirement already satisfied: werkzeug>=1.0.1 in /usr/local/lib/python3.7/dist-packages (from tensorboard<2.10,>=2.9->tensorflow) (1.0.1)\n",
            "Requirement already satisfied: cachetools<5.0,>=2.0.0 in /usr/local/lib/python3.7/dist-packages (from google-auth<3,>=1.6.3->tensorboard<2.10,>=2.9->tensorflow) (4.2.4)\n",
            "Requirement already satisfied: rsa<5,>=3.1.4 in /usr/local/lib/python3.7/dist-packages (from google-auth<3,>=1.6.3->tensorboard<2.10,>=2.9->tensorflow) (4.9)\n",
            "Requirement already satisfied: pyasn1-modules>=0.2.1 in /usr/local/lib/python3.7/dist-packages (from google-auth<3,>=1.6.3->tensorboard<2.10,>=2.9->tensorflow) (0.2.8)\n",
            "Requirement already satisfied: requests-oauthlib>=0.7.0 in /usr/local/lib/python3.7/dist-packages (from google-auth-oauthlib<0.5,>=0.4.1->tensorboard<2.10,>=2.9->tensorflow) (1.3.1)\n",
            "Requirement already satisfied: importlib-metadata>=4.4 in /usr/local/lib/python3.7/dist-packages (from markdown>=2.6.8->tensorboard<2.10,>=2.9->tensorflow) (5.0.0)\n",
            "Requirement already satisfied: zipp>=0.5 in /usr/local/lib/python3.7/dist-packages (from importlib-metadata>=4.4->markdown>=2.6.8->tensorboard<2.10,>=2.9->tensorflow) (3.9.0)\n",
            "Requirement already satisfied: pyasn1<0.5.0,>=0.4.6 in /usr/local/lib/python3.7/dist-packages (from pyasn1-modules>=0.2.1->google-auth<3,>=1.6.3->tensorboard<2.10,>=2.9->tensorflow) (0.4.8)\n",
            "Requirement already satisfied: idna<3,>=2.5 in /usr/local/lib/python3.7/dist-packages (from requests<3,>=2.21.0->tensorboard<2.10,>=2.9->tensorflow) (2.10)\n",
            "Requirement already satisfied: certifi>=2017.4.17 in /usr/local/lib/python3.7/dist-packages (from requests<3,>=2.21.0->tensorboard<2.10,>=2.9->tensorflow) (2022.9.24)\n",
            "Requirement already satisfied: chardet<4,>=3.0.2 in /usr/local/lib/python3.7/dist-packages (from requests<3,>=2.21.0->tensorboard<2.10,>=2.9->tensorflow) (3.0.4)\n",
            "Requirement already satisfied: urllib3!=1.25.0,!=1.25.1,<1.26,>=1.21.1 in /usr/local/lib/python3.7/dist-packages (from requests<3,>=2.21.0->tensorboard<2.10,>=2.9->tensorflow) (1.24.3)\n",
            "Requirement already satisfied: oauthlib>=3.0.0 in /usr/local/lib/python3.7/dist-packages (from requests-oauthlib>=0.7.0->google-auth-oauthlib<0.5,>=0.4.1->tensorboard<2.10,>=2.9->tensorflow) (3.2.1)\n",
            "Requirement already satisfied: pyparsing!=3.0.5,>=2.0.2 in /usr/local/lib/python3.7/dist-packages (from packaging->tensorflow) (3.0.9)\n"
          ]
        }
      ],
      "source": [
        "pip install tensorflow"
      ]
    },
    {
      "cell_type": "code",
      "execution_count": 3,
      "metadata": {
        "colab": {
          "base_uri": "https://localhost:8080/"
        },
        "id": "91KqD20dSEYX",
        "outputId": "4aa6b9bc-86aa-4aa3-9062-aa0dcdc53009"
      },
      "outputs": [
        {
          "output_type": "stream",
          "name": "stdout",
          "text": [
            "Looking in indexes: https://pypi.org/simple, https://us-python.pkg.dev/colab-wheels/public/simple/\n",
            "Requirement already satisfied: keras in /usr/local/lib/python3.7/dist-packages (2.9.0)\n"
          ]
        }
      ],
      "source": [
        "pip install keras"
      ]
    },
    {
      "cell_type": "markdown",
      "metadata": {
        "id": "LS0ThTpvNcFQ"
      },
      "source": [
        "{\"username\":\"khaledotour\",\"key\":\"e50ff4ec7d2365ce86c496b1b02e54a5\"}"
      ]
    },
    {
      "cell_type": "code",
      "execution_count": 4,
      "metadata": {
        "colab": {
          "base_uri": "https://localhost:8080/"
        },
        "id": "AtWNFusXj63V",
        "outputId": "f9f470d8-5712-40d6-a912-9bf65771f3f9"
      },
      "outputs": [
        {
          "output_type": "stream",
          "name": "stdout",
          "text": [
            "Please provide your Kaggle credentials to download this dataset. Learn more: http://bit.ly/kaggle-creds\n",
            "Your Kaggle username: khaledotour\n",
            "Your Kaggle Key: ··········\n",
            "Downloading leukemia-classification.zip to ./leukemia-classification\n"
          ]
        },
        {
          "output_type": "stream",
          "name": "stderr",
          "text": [
            "100%|██████████| 867M/867M [00:10<00:00, 88.1MB/s]\n"
          ]
        },
        {
          "output_type": "stream",
          "name": "stdout",
          "text": [
            "\n"
          ]
        }
      ],
      "source": [
        "import opendatasets as od\n",
        "od.download(\"https://www.kaggle.com/datasets/andrewmvd/leukemia-classification\")"
      ]
    },
    {
      "cell_type": "markdown",
      "metadata": {
        "id": "1Ke2ISz4qnVU"
      },
      "source": [
        "Acute lymphoblastic leukemia (ALL) is the most common type of childhood cancer and accounts for approximately 25% of the pediatric cancers.\n",
        "\n",
        "These cells have been segmented from microscopic images and are representative of images in the real-world because they contain some staining noise and illumination errors, although these errors have largely been fixed in the course of acquisition.\n",
        "\n",
        "The task of identifying immature leukemic blasts from normal cells under the microscope is challenging due to morphological similarity and thus the ground truth labels were annotated by an expert oncologist.\n",
        "\n",
        "In total there are 15,135 images from 118 patients with two labelled classes:\n",
        "\n",
        "1. Normal cell.\n",
        "1. Leukemia blast."
      ]
    },
    {
      "cell_type": "code",
      "execution_count": 5,
      "metadata": {
        "id": "7nd_7ZDFnGH4",
        "colab": {
          "base_uri": "https://localhost:8080/"
        },
        "outputId": "96806d14-e43b-45e5-bd33-487644e0f547"
      },
      "outputs": [
        {
          "output_type": "stream",
          "name": "stdout",
          "text": [
            "--2022-10-13 13:20:25--  https://storage.googleapis.com/mledu-datasets/inception_v3_weights_tf_dim_ordering_tf_kernels_notop.h5\n",
            "Resolving storage.googleapis.com (storage.googleapis.com)... 172.217.1.208, 172.253.115.128, 172.253.122.128, ...\n",
            "Connecting to storage.googleapis.com (storage.googleapis.com)|172.217.1.208|:443... connected.\n",
            "HTTP request sent, awaiting response... 200 OK\n",
            "Length: 87910968 (84M) [application/x-hdf]\n",
            "Saving to: ‘/tmp/inception_v3_weights_tf_dim_ordering_tf_kernels_notop.h5’\n",
            "\n",
            "/tmp/inception_v3_w 100%[===================>]  83.84M   239MB/s    in 0.4s    \n",
            "\n",
            "2022-10-13 13:20:26 (239 MB/s) - ‘/tmp/inception_v3_weights_tf_dim_ordering_tf_kernels_notop.h5’ saved [87910968/87910968]\n",
            "\n"
          ]
        }
      ],
      "source": [
        "import pandas as pd \n",
        "import os \n",
        "import glob\n",
        "import numpy as np\n",
        "import cv2 \n",
        "from sklearn.utils import shuffle\n",
        "import matplotlib.pyplot as plt\n",
        "from sklearn.model_selection import train_test_split\n",
        "import tensorflow as tf \n",
        "import keras \n",
        "from keras import Model\n",
        "from keras.models import Sequential\n",
        "from keras.models import load_model\n",
        "from keras.layers import Conv2D, BatchNormalization,MaxPool2D, GlobalMaxPool2D,MaxPooling2D\n",
        "from keras.layers import Dense, Dropout, Flatten\n",
        "from keras.layers import Input, ReLU, BatchNormalization\n",
        "from tensorflow.keras.optimizers import Adam\n",
        "from tensorflow.keras.preprocessing.image import ImageDataGenerator\n"
      ]
    },
    {
      "cell_type": "code",
      "execution_count": 6,
      "metadata": {
        "id": "jQ5DDiaWlm0c"
      },
      "outputs": [],
      "source": [
        "# reading the path and put them in a diffrent list \n",
        " \n",
        "train_dataset_0_all = glob.glob(\"/content/leukemia-classification/C-NMC_Leukemia/training_data/fold_0/all/*.bmp\")\n",
        "train_dataset_0_hem = glob.glob(\"/content/leukemia-classification/C-NMC_Leukemia/training_data/fold_0/hem/*.bmp\")\n",
        "train_dataset_1_all = glob.glob(\"/content/leukemia-classification/C-NMC_Leukemia/training_data/fold_1/all/*.bmp\")\n",
        "train_dataset_1_hem = glob.glob(\"/content/leukemia-classification/C-NMC_Leukemia/training_data/fold_1/hem/*.bmp\")\n",
        "train_dataset_2_all = glob.glob(\"/content/leukemia-classification/C-NMC_Leukemia/training_data/fold_2/all/*.bmp\")\n",
        "train_dataset_2_hem = glob.glob(\"/content/leukemia-classification/C-NMC_Leukemia/training_data/fold_2/hem/*.bmp\")"
      ]
    },
    {
      "cell_type": "code",
      "execution_count": 7,
      "metadata": {
        "id": "-4qvkzyMntga",
        "colab": {
          "base_uri": "https://localhost:8080/"
        },
        "outputId": "a4d0be3e-ff66-4f42-9ac1-553a74a1448b"
      },
      "outputs": [
        {
          "output_type": "stream",
          "name": "stdout",
          "text": [
            "the shape of the all training data is 7272 and the hem data is 3389\n"
          ]
        }
      ],
      "source": [
        "train_dataset_all = []\n",
        "train_dataset_hem = []\n",
        "train_dataset     = []\n",
        "\n",
        "train_dataset_all.extend(train_dataset_0_all)\n",
        "train_dataset_all.extend(train_dataset_1_all)\n",
        "train_dataset_all.extend(train_dataset_2_all)\n",
        "\n",
        "train_dataset_hem.extend(train_dataset_0_hem)\n",
        "train_dataset_hem.extend(train_dataset_1_hem)\n",
        "train_dataset_hem.extend(train_dataset_2_hem)\n",
        "\n",
        "\n",
        "train_dataset.extend(train_dataset_all)\n",
        "train_dataset.extend(train_dataset_hem)\n",
        "train_dataset = np.asarray(train_dataset)\n",
        "\n",
        "train_dataset_all = np.asarray(train_dataset_all)\n",
        "train_dataset_hem = np.asarray(train_dataset_hem)\n",
        "\n",
        "print(\"the shape of the all training data is {} and the hem data is {}\".format(train_dataset_all.shape[0],train_dataset_hem.shape[0]))\n"
      ]
    },
    {
      "cell_type": "markdown",
      "metadata": {
        "id": "tiPPj7mhtBBG"
      },
      "source": [
        "## After building the pattren and gather them in two arrays the following must be done:\n",
        "\n",
        "1. create a series to build my data fram \n",
        "2. label the pattren \n",
        "3. read the images and preprocesse them "
      ]
    },
    {
      "cell_type": "code",
      "execution_count": 8,
      "metadata": {
        "id": "RdLLIPSXnKqR"
      },
      "outputs": [],
      "source": [
        "def Label (x,y):\n",
        "  label = []\n",
        "  for i in range(len(x)):\n",
        "    label.append(1)\n",
        "  for j in range(len(y)):\n",
        "    label.append(0)\n",
        "  label = np.asarray(label)\n",
        "  return label"
      ]
    },
    {
      "cell_type": "code",
      "execution_count": 9,
      "metadata": {
        "id": "iar0CQ2TujoW",
        "colab": {
          "base_uri": "https://localhost:8080/"
        },
        "outputId": "b93c5cf8-d473-4d2f-9e05-560617fe249d"
      },
      "outputs": [
        {
          "output_type": "stream",
          "name": "stdout",
          "text": [
            "10661\n"
          ]
        }
      ],
      "source": [
        "label = Label(train_dataset_all,train_dataset_hem) \n",
        "print(label.shape[0])"
      ]
    },
    {
      "cell_type": "code",
      "execution_count": 10,
      "metadata": {
        "id": "hz4t7-55u36b"
      },
      "outputs": [],
      "source": [
        "def do_dataset (x,y):\n",
        "  data= pd.DataFrame(x,columns=[\"Image Pattren\"])\n",
        "  data[\"label\"]=y\n",
        "  return data"
      ]
    },
    {
      "cell_type": "code",
      "execution_count": 11,
      "metadata": {
        "id": "5Bc_EBDwxIYs",
        "colab": {
          "base_uri": "https://localhost:8080/",
          "height": 423
        },
        "outputId": "6886779b-4056-4cb1-c0c4-df4e5c4a7a72"
      },
      "outputs": [
        {
          "output_type": "execute_result",
          "data": {
            "text/plain": [
              "                                           Image Pattren  label\n",
              "0      /content/leukemia-classification/C-NMC_Leukemi...      1\n",
              "1      /content/leukemia-classification/C-NMC_Leukemi...      1\n",
              "2      /content/leukemia-classification/C-NMC_Leukemi...      1\n",
              "3      /content/leukemia-classification/C-NMC_Leukemi...      1\n",
              "4      /content/leukemia-classification/C-NMC_Leukemi...      1\n",
              "...                                                  ...    ...\n",
              "10656  /content/leukemia-classification/C-NMC_Leukemi...      0\n",
              "10657  /content/leukemia-classification/C-NMC_Leukemi...      0\n",
              "10658  /content/leukemia-classification/C-NMC_Leukemi...      0\n",
              "10659  /content/leukemia-classification/C-NMC_Leukemi...      0\n",
              "10660  /content/leukemia-classification/C-NMC_Leukemi...      0\n",
              "\n",
              "[10661 rows x 2 columns]"
            ],
            "text/html": [
              "\n",
              "  <div id=\"df-9a1ad4b4-2fcc-4310-80b6-bbe37ab7dee2\">\n",
              "    <div class=\"colab-df-container\">\n",
              "      <div>\n",
              "<style scoped>\n",
              "    .dataframe tbody tr th:only-of-type {\n",
              "        vertical-align: middle;\n",
              "    }\n",
              "\n",
              "    .dataframe tbody tr th {\n",
              "        vertical-align: top;\n",
              "    }\n",
              "\n",
              "    .dataframe thead th {\n",
              "        text-align: right;\n",
              "    }\n",
              "</style>\n",
              "<table border=\"1\" class=\"dataframe\">\n",
              "  <thead>\n",
              "    <tr style=\"text-align: right;\">\n",
              "      <th></th>\n",
              "      <th>Image Pattren</th>\n",
              "      <th>label</th>\n",
              "    </tr>\n",
              "  </thead>\n",
              "  <tbody>\n",
              "    <tr>\n",
              "      <th>0</th>\n",
              "      <td>/content/leukemia-classification/C-NMC_Leukemi...</td>\n",
              "      <td>1</td>\n",
              "    </tr>\n",
              "    <tr>\n",
              "      <th>1</th>\n",
              "      <td>/content/leukemia-classification/C-NMC_Leukemi...</td>\n",
              "      <td>1</td>\n",
              "    </tr>\n",
              "    <tr>\n",
              "      <th>2</th>\n",
              "      <td>/content/leukemia-classification/C-NMC_Leukemi...</td>\n",
              "      <td>1</td>\n",
              "    </tr>\n",
              "    <tr>\n",
              "      <th>3</th>\n",
              "      <td>/content/leukemia-classification/C-NMC_Leukemi...</td>\n",
              "      <td>1</td>\n",
              "    </tr>\n",
              "    <tr>\n",
              "      <th>4</th>\n",
              "      <td>/content/leukemia-classification/C-NMC_Leukemi...</td>\n",
              "      <td>1</td>\n",
              "    </tr>\n",
              "    <tr>\n",
              "      <th>...</th>\n",
              "      <td>...</td>\n",
              "      <td>...</td>\n",
              "    </tr>\n",
              "    <tr>\n",
              "      <th>10656</th>\n",
              "      <td>/content/leukemia-classification/C-NMC_Leukemi...</td>\n",
              "      <td>0</td>\n",
              "    </tr>\n",
              "    <tr>\n",
              "      <th>10657</th>\n",
              "      <td>/content/leukemia-classification/C-NMC_Leukemi...</td>\n",
              "      <td>0</td>\n",
              "    </tr>\n",
              "    <tr>\n",
              "      <th>10658</th>\n",
              "      <td>/content/leukemia-classification/C-NMC_Leukemi...</td>\n",
              "      <td>0</td>\n",
              "    </tr>\n",
              "    <tr>\n",
              "      <th>10659</th>\n",
              "      <td>/content/leukemia-classification/C-NMC_Leukemi...</td>\n",
              "      <td>0</td>\n",
              "    </tr>\n",
              "    <tr>\n",
              "      <th>10660</th>\n",
              "      <td>/content/leukemia-classification/C-NMC_Leukemi...</td>\n",
              "      <td>0</td>\n",
              "    </tr>\n",
              "  </tbody>\n",
              "</table>\n",
              "<p>10661 rows × 2 columns</p>\n",
              "</div>\n",
              "      <button class=\"colab-df-convert\" onclick=\"convertToInteractive('df-9a1ad4b4-2fcc-4310-80b6-bbe37ab7dee2')\"\n",
              "              title=\"Convert this dataframe to an interactive table.\"\n",
              "              style=\"display:none;\">\n",
              "        \n",
              "  <svg xmlns=\"http://www.w3.org/2000/svg\" height=\"24px\"viewBox=\"0 0 24 24\"\n",
              "       width=\"24px\">\n",
              "    <path d=\"M0 0h24v24H0V0z\" fill=\"none\"/>\n",
              "    <path d=\"M18.56 5.44l.94 2.06.94-2.06 2.06-.94-2.06-.94-.94-2.06-.94 2.06-2.06.94zm-11 1L8.5 8.5l.94-2.06 2.06-.94-2.06-.94L8.5 2.5l-.94 2.06-2.06.94zm10 10l.94 2.06.94-2.06 2.06-.94-2.06-.94-.94-2.06-.94 2.06-2.06.94z\"/><path d=\"M17.41 7.96l-1.37-1.37c-.4-.4-.92-.59-1.43-.59-.52 0-1.04.2-1.43.59L10.3 9.45l-7.72 7.72c-.78.78-.78 2.05 0 2.83L4 21.41c.39.39.9.59 1.41.59.51 0 1.02-.2 1.41-.59l7.78-7.78 2.81-2.81c.8-.78.8-2.07 0-2.86zM5.41 20L4 18.59l7.72-7.72 1.47 1.35L5.41 20z\"/>\n",
              "  </svg>\n",
              "      </button>\n",
              "      \n",
              "  <style>\n",
              "    .colab-df-container {\n",
              "      display:flex;\n",
              "      flex-wrap:wrap;\n",
              "      gap: 12px;\n",
              "    }\n",
              "\n",
              "    .colab-df-convert {\n",
              "      background-color: #E8F0FE;\n",
              "      border: none;\n",
              "      border-radius: 50%;\n",
              "      cursor: pointer;\n",
              "      display: none;\n",
              "      fill: #1967D2;\n",
              "      height: 32px;\n",
              "      padding: 0 0 0 0;\n",
              "      width: 32px;\n",
              "    }\n",
              "\n",
              "    .colab-df-convert:hover {\n",
              "      background-color: #E2EBFA;\n",
              "      box-shadow: 0px 1px 2px rgba(60, 64, 67, 0.3), 0px 1px 3px 1px rgba(60, 64, 67, 0.15);\n",
              "      fill: #174EA6;\n",
              "    }\n",
              "\n",
              "    [theme=dark] .colab-df-convert {\n",
              "      background-color: #3B4455;\n",
              "      fill: #D2E3FC;\n",
              "    }\n",
              "\n",
              "    [theme=dark] .colab-df-convert:hover {\n",
              "      background-color: #434B5C;\n",
              "      box-shadow: 0px 1px 3px 1px rgba(0, 0, 0, 0.15);\n",
              "      filter: drop-shadow(0px 1px 2px rgba(0, 0, 0, 0.3));\n",
              "      fill: #FFFFFF;\n",
              "    }\n",
              "  </style>\n",
              "\n",
              "      <script>\n",
              "        const buttonEl =\n",
              "          document.querySelector('#df-9a1ad4b4-2fcc-4310-80b6-bbe37ab7dee2 button.colab-df-convert');\n",
              "        buttonEl.style.display =\n",
              "          google.colab.kernel.accessAllowed ? 'block' : 'none';\n",
              "\n",
              "        async function convertToInteractive(key) {\n",
              "          const element = document.querySelector('#df-9a1ad4b4-2fcc-4310-80b6-bbe37ab7dee2');\n",
              "          const dataTable =\n",
              "            await google.colab.kernel.invokeFunction('convertToInteractive',\n",
              "                                                     [key], {});\n",
              "          if (!dataTable) return;\n",
              "\n",
              "          const docLinkHtml = 'Like what you see? Visit the ' +\n",
              "            '<a target=\"_blank\" href=https://colab.research.google.com/notebooks/data_table.ipynb>data table notebook</a>'\n",
              "            + ' to learn more about interactive tables.';\n",
              "          element.innerHTML = '';\n",
              "          dataTable['output_type'] = 'display_data';\n",
              "          await google.colab.output.renderOutput(dataTable, element);\n",
              "          const docLink = document.createElement('div');\n",
              "          docLink.innerHTML = docLinkHtml;\n",
              "          element.appendChild(docLink);\n",
              "        }\n",
              "      </script>\n",
              "    </div>\n",
              "  </div>\n",
              "  "
            ]
          },
          "metadata": {},
          "execution_count": 11
        }
      ],
      "source": [
        "dataset = do_dataset(train_dataset,label)\n",
        "dataset"
      ]
    },
    {
      "cell_type": "code",
      "execution_count": 12,
      "metadata": {
        "id": "mOEReELIyfkC"
      },
      "outputs": [],
      "source": [
        "def Image_Preprocessing (x):\n",
        "  image =[]\n",
        "\n",
        "  for i in x:\n",
        "    a = cv2.imread(i)\n",
        "    a = cv2.resize(a,(100,100))\n",
        "    a = a.astype('uint8')\n",
        "    a=a/255\n",
        "    image.append(a)\n",
        "  image = np.asarray(image)\n",
        "  return(image)"
      ]
    },
    {
      "cell_type": "code",
      "execution_count": 13,
      "metadata": {
        "id": "e8fVKGqs0IaP"
      },
      "outputs": [],
      "source": [
        "Image = Image_Preprocessing(dataset[\"Image Pattren\"])"
      ]
    },
    {
      "cell_type": "code",
      "execution_count": 14,
      "metadata": {
        "id": "kGgxiWa80uAn",
        "colab": {
          "base_uri": "https://localhost:8080/"
        },
        "outputId": "88f03353-01ce-42f5-8dc4-1abc68f24057"
      },
      "outputs": [
        {
          "output_type": "stream",
          "name": "stdout",
          "text": [
            "The number of Images are 10661 and each on of them has (100, 100, 3) size\n"
          ]
        }
      ],
      "source": [
        "print('The number of Images are {} and each on of them has {} size'.format(Image.shape[0],Image[0].shape))"
      ]
    },
    {
      "cell_type": "code",
      "execution_count": 15,
      "metadata": {
        "id": "EUbrhX3U1I38"
      },
      "outputs": [],
      "source": [
        "Image, label = shuffle(Image, label, random_state = 42)"
      ]
    },
    {
      "cell_type": "code",
      "execution_count": 16,
      "metadata": {
        "id": "DVpedJCV2YOc",
        "colab": {
          "base_uri": "https://localhost:8080/",
          "height": 236
        },
        "outputId": "0e28ae78-fd10-4593-ccd1-689315e9863a"
      },
      "outputs": [
        {
          "output_type": "display_data",
          "data": {
            "text/plain": [
              "<Figure size 2880x2880 with 5 Axes>"
            ],
            "image/png": "[encoded data removed]"
          },
          "metadata": {
            "needs_background": "light"
          }
        }
      ],
      "source": [
        "fig, ax = plt.subplots(nrows = 1, ncols = 5, figsize = (40,40))\n",
        "\n",
        "for i in range(5):\n",
        "    rand = np.random.randint(len(Image))\n",
        "    ax[i].imshow(Image[rand])\n",
        "    ax[i].axis('off')\n",
        "    a = label[rand]\n",
        "    if a == 1:\n",
        "        ax[i].set_title('Diseased', fontsize=40)\n",
        "    else:\n",
        "        ax[i].set_title('Non_Diseased', fontsize=40)"
      ]
    },
    {
      "cell_type": "code",
      "execution_count": 17,
      "metadata": {
        "id": "hnM4RxyD4Th_",
        "colab": {
          "base_uri": "https://localhost:8080/",
          "height": 423
        },
        "outputId": "45ffb8d0-d040-4d84-fd23-dba27eebdeb1"
      },
      "outputs": [
        {
          "output_type": "execute_result",
          "data": {
            "text/plain": [
              "                Patient_ID                                          new_names  \\\n",
              "0      UID_57_29_1_all.bmp  /content/leukemia-classification/C-NMC_Leukemi...   \n",
              "1      UID_57_22_2_all.bmp  /content/leukemia-classification/C-NMC_Leukemi...   \n",
              "2      UID_57_31_3_all.bmp  /content/leukemia-classification/C-NMC_Leukemi...   \n",
              "3     UID_H49_35_1_hem.bmp  /content/leukemia-classification/C-NMC_Leukemi...   \n",
              "4      UID_58_6_13_all.bmp  /content/leukemia-classification/C-NMC_Leukemi...   \n",
              "...                    ...                                                ...   \n",
              "1862   UID_54_33_1_all.bmp  /content/leukemia-classification/C-NMC_Leukemi...   \n",
              "1863   UID_55_24_1_all.bmp  /content/leukemia-classification/C-NMC_Leukemi...   \n",
              "1864  UID_H32_20_1_hem.bmp  /content/leukemia-classification/C-NMC_Leukemi...   \n",
              "1865   UID_54_30_2_all.bmp  /content/leukemia-classification/C-NMC_Leukemi...   \n",
              "1866   UID_66_10_3_all.bmp  /content/leukemia-classification/C-NMC_Leukemi...   \n",
              "\n",
              "      labels  \n",
              "0          1  \n",
              "1          1  \n",
              "2          1  \n",
              "3          0  \n",
              "4          1  \n",
              "...      ...  \n",
              "1862       1  \n",
              "1863       1  \n",
              "1864       0  \n",
              "1865       1  \n",
              "1866       1  \n",
              "\n",
              "[1867 rows x 3 columns]"
            ],
            "text/html": [
              "\n",
              "  <div id=\"df-9c782a9d-57d7-4185-98ae-eca8454f78fd\">\n",
              "    <div class=\"colab-df-container\">\n",
              "      <div>\n",
              "<style scoped>\n",
              "    .dataframe tbody tr th:only-of-type {\n",
              "        vertical-align: middle;\n",
              "    }\n",
              "\n",
              "    .dataframe tbody tr th {\n",
              "        vertical-align: top;\n",
              "    }\n",
              "\n",
              "    .dataframe thead th {\n",
              "        text-align: right;\n",
              "    }\n",
              "</style>\n",
              "<table border=\"1\" class=\"dataframe\">\n",
              "  <thead>\n",
              "    <tr style=\"text-align: right;\">\n",
              "      <th></th>\n",
              "      <th>Patient_ID</th>\n",
              "      <th>new_names</th>\n",
              "      <th>labels</th>\n",
              "    </tr>\n",
              "  </thead>\n",
              "  <tbody>\n",
              "    <tr>\n",
              "      <th>0</th>\n",
              "      <td>UID_57_29_1_all.bmp</td>\n",
              "      <td>/content/leukemia-classification/C-NMC_Leukemi...</td>\n",
              "      <td>1</td>\n",
              "    </tr>\n",
              "    <tr>\n",
              "      <th>1</th>\n",
              "      <td>UID_57_22_2_all.bmp</td>\n",
              "      <td>/content/leukemia-classification/C-NMC_Leukemi...</td>\n",
              "      <td>1</td>\n",
              "    </tr>\n",
              "    <tr>\n",
              "      <th>2</th>\n",
              "      <td>UID_57_31_3_all.bmp</td>\n",
              "      <td>/content/leukemia-classification/C-NMC_Leukemi...</td>\n",
              "      <td>1</td>\n",
              "    </tr>\n",
              "    <tr>\n",
              "      <th>3</th>\n",
              "      <td>UID_H49_35_1_hem.bmp</td>\n",
              "      <td>/content/leukemia-classification/C-NMC_Leukemi...</td>\n",
              "      <td>0</td>\n",
              "    </tr>\n",
              "    <tr>\n",
              "      <th>4</th>\n",
              "      <td>UID_58_6_13_all.bmp</td>\n",
              "      <td>/content/leukemia-classification/C-NMC_Leukemi...</td>\n",
              "      <td>1</td>\n",
              "    </tr>\n",
              "    <tr>\n",
              "      <th>...</th>\n",
              "      <td>...</td>\n",
              "      <td>...</td>\n",
              "      <td>...</td>\n",
              "    </tr>\n",
              "    <tr>\n",
              "      <th>1862</th>\n",
              "      <td>UID_54_33_1_all.bmp</td>\n",
              "      <td>/content/leukemia-classification/C-NMC_Leukemi...</td>\n",
              "      <td>1</td>\n",
              "    </tr>\n",
              "    <tr>\n",
              "      <th>1863</th>\n",
              "      <td>UID_55_24_1_all.bmp</td>\n",
              "      <td>/content/leukemia-classification/C-NMC_Leukemi...</td>\n",
              "      <td>1</td>\n",
              "    </tr>\n",
              "    <tr>\n",
              "      <th>1864</th>\n",
              "      <td>UID_H32_20_1_hem.bmp</td>\n",
              "      <td>/content/leukemia-classification/C-NMC_Leukemi...</td>\n",
              "      <td>0</td>\n",
              "    </tr>\n",
              "    <tr>\n",
              "      <th>1865</th>\n",
              "      <td>UID_54_30_2_all.bmp</td>\n",
              "      <td>/content/leukemia-classification/C-NMC_Leukemi...</td>\n",
              "      <td>1</td>\n",
              "    </tr>\n",
              "    <tr>\n",
              "      <th>1866</th>\n",
              "      <td>UID_66_10_3_all.bmp</td>\n",
              "      <td>/content/leukemia-classification/C-NMC_Leukemi...</td>\n",
              "      <td>1</td>\n",
              "    </tr>\n",
              "  </tbody>\n",
              "</table>\n",
              "<p>1867 rows × 3 columns</p>\n",
              "</div>\n",
              "      <button class=\"colab-df-convert\" onclick=\"convertToInteractive('df-9c782a9d-57d7-4185-98ae-eca8454f78fd')\"\n",
              "              title=\"Convert this dataframe to an interactive table.\"\n",
              "              style=\"display:none;\">\n",
              "        \n",
              "  <svg xmlns=\"http://www.w3.org/2000/svg\" height=\"24px\"viewBox=\"0 0 24 24\"\n",
              "       width=\"24px\">\n",
              "    <path d=\"M0 0h24v24H0V0z\" fill=\"none\"/>\n",
              "    <path d=\"M18.56 5.44l.94 2.06.94-2.06 2.06-.94-2.06-.94-.94-2.06-.94 2.06-2.06.94zm-11 1L8.5 8.5l.94-2.06 2.06-.94-2.06-.94L8.5 2.5l-.94 2.06-2.06.94zm10 10l.94 2.06.94-2.06 2.06-.94-2.06-.94-.94-2.06-.94 2.06-2.06.94z\"/><path d=\"M17.41 7.96l-1.37-1.37c-.4-.4-.92-.59-1.43-.59-.52 0-1.04.2-1.43.59L10.3 9.45l-7.72 7.72c-.78.78-.78 2.05 0 2.83L4 21.41c.39.39.9.59 1.41.59.51 0 1.02-.2 1.41-.59l7.78-7.78 2.81-2.81c.8-.78.8-2.07 0-2.86zM5.41 20L4 18.59l7.72-7.72 1.47 1.35L5.41 20z\"/>\n",
              "  </svg>\n",
              "      </button>\n",
              "      \n",
              "  <style>\n",
              "    .colab-df-container {\n",
              "      display:flex;\n",
              "      flex-wrap:wrap;\n",
              "      gap: 12px;\n",
              "    }\n",
              "\n",
              "    .colab-df-convert {\n",
              "      background-color: #E8F0FE;\n",
              "      border: none;\n",
              "      border-radius: 50%;\n",
              "      cursor: pointer;\n",
              "      display: none;\n",
              "      fill: #1967D2;\n",
              "      height: 32px;\n",
              "      padding: 0 0 0 0;\n",
              "      width: 32px;\n",
              "    }\n",
              "\n",
              "    .colab-df-convert:hover {\n",
              "      background-color: #E2EBFA;\n",
              "      box-shadow: 0px 1px 2px rgba(60, 64, 67, 0.3), 0px 1px 3px 1px rgba(60, 64, 67, 0.15);\n",
              "      fill: #174EA6;\n",
              "    }\n",
              "\n",
              "    [theme=dark] .colab-df-convert {\n",
              "      background-color: #3B4455;\n",
              "      fill: #D2E3FC;\n",
              "    }\n",
              "\n",
              "    [theme=dark] .colab-df-convert:hover {\n",
              "      background-color: #434B5C;\n",
              "      box-shadow: 0px 1px 3px 1px rgba(0, 0, 0, 0.15);\n",
              "      filter: drop-shadow(0px 1px 2px rgba(0, 0, 0, 0.3));\n",
              "      fill: #FFFFFF;\n",
              "    }\n",
              "  </style>\n",
              "\n",
              "      <script>\n",
              "        const buttonEl =\n",
              "          document.querySelector('#df-9c782a9d-57d7-4185-98ae-eca8454f78fd button.colab-df-convert');\n",
              "        buttonEl.style.display =\n",
              "          google.colab.kernel.accessAllowed ? 'block' : 'none';\n",
              "\n",
              "        async function convertToInteractive(key) {\n",
              "          const element = document.querySelector('#df-9c782a9d-57d7-4185-98ae-eca8454f78fd');\n",
              "          const dataTable =\n",
              "            await google.colab.kernel.invokeFunction('convertToInteractive',\n",
              "                                                     [key], {});\n",
              "          if (!dataTable) return;\n",
              "\n",
              "          const docLinkHtml = 'Like what you see? Visit the ' +\n",
              "            '<a target=\"_blank\" href=https://colab.research.google.com/notebooks/data_table.ipynb>data table notebook</a>'\n",
              "            + ' to learn more about interactive tables.';\n",
              "          element.innerHTML = '';\n",
              "          dataTable['output_type'] = 'display_data';\n",
              "          await google.colab.output.renderOutput(dataTable, element);\n",
              "          const docLink = document.createElement('div');\n",
              "          docLink.innerHTML = docLinkHtml;\n",
              "          element.appendChild(docLink);\n",
              "        }\n",
              "      </script>\n",
              "    </div>\n",
              "  </div>\n",
              "  "
            ]
          },
          "metadata": {},
          "execution_count": 17
        }
      ],
      "source": [
        "validation_data = pd.read_csv(\"/content/leukemia-classification/C-NMC_Leukemia/validation_data/C-NMC_test_prelim_phase_data_labels.csv\")\n",
        "validation_data_pattren = glob.glob(\"/content/leukemia-classification/C-NMC_Leukemia/validation_data/C-NMC_test_prelim_phase_data/*.bmp\")\n",
        "validation_data['new_names'] = validation_data_pattren\n",
        "validation_data"
      ]
    },
    {
      "cell_type": "code",
      "execution_count": 18,
      "metadata": {
        "id": "5ZF497-MM92z"
      },
      "outputs": [],
      "source": [
        "Image_validation = Image_Preprocessing(validation_data['new_names'])"
      ]
    },
    {
      "cell_type": "code",
      "execution_count": 19,
      "metadata": {
        "id": "04pXgmc8PjRW"
      },
      "outputs": [],
      "source": [
        "labels_validation = validation_data['labels']"
      ]
    },
    {
      "cell_type": "code",
      "execution_count": 20,
      "metadata": {
        "id": "oo5yFL58Q2_k"
      },
      "outputs": [],
      "source": [
        "X_train, X_test, y_train, y_test = train_test_split(Image, label, test_size=0.33)"
      ]
    },
    {
      "cell_type": "code",
      "execution_count": 21,
      "metadata": {
        "id": "rg-gSG1qVAHL"
      },
      "outputs": [],
      "source": [
        "def CNN(input_shape):  \n",
        "  model = Sequential()\n",
        "\n",
        "  model.add(Conv2D(64,(3,3),input_shape=(100,100,3),padding=\"same\",activation='relu'))\n",
        "  model.add(MaxPooling2D(2,2))\n",
        "\n",
        "  model.add(Conv2D(64,(3,3),padding=\"same\",activation='relu'))\n",
        "  model.add(MaxPooling2D(2,2))\n",
        "\n",
        "  model.add(Conv2D(128,(3,3),padding=\"same\",activation='relu'))\n",
        "  model.add(MaxPooling2D(2,2))\n",
        "\n",
        "  model.add(Conv2D(128,(3,3),padding=\"same\",activation='relu'))\n",
        "  model.add(MaxPooling2D(2,2))\n",
        "\n",
        "  model.add(Conv2D(256,(3,3),padding=\"same\",activation='relu'))\n",
        "  model.add(MaxPooling2D(2,2))\n",
        "\n",
        "  model.add(Flatten())\n",
        "  \n",
        "  model.add(Dense(512,activation='relu'))\n",
        "  model.add(Dropout(0.5))\n",
        "\n",
        "  model.add(Dense(256,activation='relu'))\n",
        "  model.add(Dropout(0.5))\n",
        "\n",
        "  model.add(Dense(128,activation='relu'))\n",
        "  model.add(Dropout(0.5))\n",
        "\n",
        "  model.add(Dense(1,activation='sigmoid'))\n",
        "\n",
        "  return model"
      ]
    },
    {
      "cell_type": "code",
      "execution_count": 22,
      "metadata": {
        "id": "2J0uFPUiWQlO"
      },
      "outputs": [],
      "source": [
        "input_shape = (100,100,3)\n",
        "\n",
        "model = CNN(input_shape)"
      ]
    },
    {
      "cell_type": "code",
      "execution_count": 23,
      "metadata": {
        "id": "1sMgyMunWtve",
        "colab": {
          "base_uri": "https://localhost:8080/"
        },
        "outputId": "8373613e-d6bc-4c06-bee6-be4a6d87593e"
      },
      "outputs": [
        {
          "output_type": "stream",
          "name": "stdout",
          "text": [
            "Model: \"sequential\"\n",
            "_________________________________________________________________\n",
            " Layer (type)                Output Shape              Param #   \n",
            "=================================================================\n",
            " conv2d (Conv2D)             (None, 100, 100, 64)      1792      \n",
            "                                                                 \n",
            " max_pooling2d (MaxPooling2D  (None, 50, 50, 64)       0         \n",
            " )                                                               \n",
            "                                                                 \n",
            " conv2d_1 (Conv2D)           (None, 50, 50, 64)        36928     \n",
            "                                                                 \n",
            " max_pooling2d_1 (MaxPooling  (None, 25, 25, 64)       0         \n",
            " 2D)                                                             \n",
            "                                                                 \n",
            " conv2d_2 (Conv2D)           (None, 25, 25, 128)       73856     \n",
            "                                                                 \n",
            " max_pooling2d_2 (MaxPooling  (None, 12, 12, 128)      0         \n",
            " 2D)                                                             \n",
            "                                                                 \n",
            " conv2d_3 (Conv2D)           (None, 12, 12, 128)       147584    \n",
            "                                                                 \n",
            " max_pooling2d_3 (MaxPooling  (None, 6, 6, 128)        0         \n",
            " 2D)                                                             \n",
            "                                                                 \n",
            " conv2d_4 (Conv2D)           (None, 6, 6, 256)         295168    \n",
            "                                                                 \n",
            " max_pooling2d_4 (MaxPooling  (None, 3, 3, 256)        0         \n",
            " 2D)                                                             \n",
            "                                                                 \n",
            " flatten (Flatten)           (None, 2304)              0         \n",
            "                                                                 \n",
            " dense (Dense)               (None, 512)               1180160   \n",
            "                                                                 \n",
            " dropout (Dropout)           (None, 512)               0         \n",
            "                                                                 \n",
            " dense_1 (Dense)             (None, 256)               131328    \n",
            "                                                                 \n",
            " dropout_1 (Dropout)         (None, 256)               0         \n",
            "                                                                 \n",
            " dense_2 (Dense)             (None, 128)               32896     \n",
            "                                                                 \n",
            " dropout_2 (Dropout)         (None, 128)               0         \n",
            "                                                                 \n",
            " dense_3 (Dense)             (None, 1)                 129       \n",
            "                                                                 \n",
            "=================================================================\n",
            "Total params: 1,899,841\n",
            "Trainable params: 1,899,841\n",
            "Non-trainable params: 0\n",
            "_________________________________________________________________\n"
          ]
        }
      ],
      "source": [
        "model.summary()"
      ]
    },
    {
      "cell_type": "code",
      "execution_count": 24,
      "metadata": {
        "id": "vYKjA9DOWxQi"
      },
      "outputs": [],
      "source": [
        "optimizer = Adam()\n",
        "model.compile(\n",
        "    optimizer,\n",
        "    'binary_crossentropy',\n",
        "    metrics=['accuracy']\n",
        ")\n",
        "# Defining Callbacks\n",
        "ACCURACY_THRESHOLD = 0.92\n",
        "LOSS_THRESHOLD = 0.20\n",
        "class MyCallback(tf.keras.callbacks.Callback):\n",
        "  def on_epoch_end(self,epoch,logs={}):\n",
        "    if logs.get('accuracy') >= ACCURACY_THRESHOLD and logs.get('loss') <= LOSS_THRESHOLD :\n",
        "      print(\"\\nReached {} accuracy and {} loss , so stopping training!!\".format(ACCURACY_THRESHOLD*100,LOSS_THRESHOLD*100)) \n",
        "      self.model.stop_training = True\n",
        "callback = MyCallback()"
      ]
    },
    {
      "cell_type": "code",
      "execution_count": 25,
      "metadata": {
        "id": "24WqFIRKeRoh"
      },
      "outputs": [],
      "source": [
        "datagen = ImageDataGenerator(\n",
        "    featurewise_center=True,\n",
        "    featurewise_std_normalization=True,\n",
        "    rotation_range=40,\n",
        "    width_shift_range=0.2,\n",
        "    height_shift_range=0.2,\n",
        "    horizontal_flip=True)\n",
        "datagen.fit(X_train)"
      ]
    },
    {
      "cell_type": "code",
      "execution_count": 26,
      "metadata": {
        "id": "P4SieV2iX6yH",
        "colab": {
          "base_uri": "https://localhost:8080/"
        },
        "outputId": "2eebeb40-691d-49c3-cce9-519dfdc778c8"
      },
      "outputs": [
        {
          "output_type": "stream",
          "name": "stdout",
          "text": [
            "Epoch 1/500\n",
            "112/112 [==============================] - 34s 226ms/step - loss: 0.5837 - accuracy: 0.6955 - val_loss: 0.4989 - val_accuracy: 0.7889\n",
            "Epoch 2/500\n",
            "112/112 [==============================] - 24s 218ms/step - loss: 0.4912 - accuracy: 0.7882 - val_loss: 0.4551 - val_accuracy: 0.7906\n",
            "Epoch 3/500\n",
            "112/112 [==============================] - 24s 218ms/step - loss: 0.4682 - accuracy: 0.8008 - val_loss: 0.4389 - val_accuracy: 0.7897\n",
            "Epoch 4/500\n",
            "112/112 [==============================] - 24s 218ms/step - loss: 0.4548 - accuracy: 0.8094 - val_loss: 0.4155 - val_accuracy: 0.8309\n",
            "Epoch 5/500\n",
            "112/112 [==============================] - 24s 217ms/step - loss: 0.4480 - accuracy: 0.8131 - val_loss: 0.3885 - val_accuracy: 0.8429\n",
            "Epoch 6/500\n",
            "112/112 [==============================] - 28s 250ms/step - loss: 0.4329 - accuracy: 0.8206 - val_loss: 0.3930 - val_accuracy: 0.8400\n",
            "Epoch 7/500\n",
            "112/112 [==============================] - 33s 296ms/step - loss: 0.4237 - accuracy: 0.8250 - val_loss: 0.3641 - val_accuracy: 0.8497\n",
            "Epoch 8/500\n",
            "112/112 [==============================] - 24s 217ms/step - loss: 0.4059 - accuracy: 0.8330 - val_loss: 0.3789 - val_accuracy: 0.8386\n",
            "Epoch 9/500\n",
            "112/112 [==============================] - 25s 220ms/step - loss: 0.4139 - accuracy: 0.8272 - val_loss: 0.3572 - val_accuracy: 0.8517\n",
            "Epoch 10/500\n",
            "112/112 [==============================] - 24s 219ms/step - loss: 0.3978 - accuracy: 0.8391 - val_loss: 0.3623 - val_accuracy: 0.8511\n",
            "Epoch 11/500\n",
            "112/112 [==============================] - 25s 225ms/step - loss: 0.3912 - accuracy: 0.8401 - val_loss: 0.3575 - val_accuracy: 0.8511\n",
            "Epoch 12/500\n",
            "112/112 [==============================] - 24s 218ms/step - loss: 0.3997 - accuracy: 0.8379 - val_loss: 0.3683 - val_accuracy: 0.8517\n",
            "Epoch 13/500\n",
            "112/112 [==============================] - 24s 217ms/step - loss: 0.3833 - accuracy: 0.8454 - val_loss: 0.3400 - val_accuracy: 0.8591\n",
            "Epoch 14/500\n",
            "112/112 [==============================] - 24s 217ms/step - loss: 0.3915 - accuracy: 0.8397 - val_loss: 0.3677 - val_accuracy: 0.8383\n",
            "Epoch 15/500\n",
            "112/112 [==============================] - 25s 219ms/step - loss: 0.3758 - accuracy: 0.8499 - val_loss: 0.3309 - val_accuracy: 0.8662\n",
            "Epoch 16/500\n",
            "112/112 [==============================] - 24s 217ms/step - loss: 0.3554 - accuracy: 0.8549 - val_loss: 0.3749 - val_accuracy: 0.8340\n",
            "Epoch 17/500\n",
            "112/112 [==============================] - 24s 217ms/step - loss: 0.3583 - accuracy: 0.8575 - val_loss: 0.3283 - val_accuracy: 0.8616\n",
            "Epoch 18/500\n",
            "112/112 [==============================] - 24s 219ms/step - loss: 0.3696 - accuracy: 0.8506 - val_loss: 0.3242 - val_accuracy: 0.8710\n",
            "Epoch 19/500\n",
            "112/112 [==============================] - 24s 218ms/step - loss: 0.3555 - accuracy: 0.8582 - val_loss: 0.3486 - val_accuracy: 0.8625\n",
            "Epoch 20/500\n",
            "112/112 [==============================] - 24s 217ms/step - loss: 0.3402 - accuracy: 0.8624 - val_loss: 0.3138 - val_accuracy: 0.8738\n",
            "Epoch 21/500\n",
            "112/112 [==============================] - 24s 219ms/step - loss: 0.3423 - accuracy: 0.8654 - val_loss: 0.3333 - val_accuracy: 0.8659\n",
            "Epoch 22/500\n",
            "112/112 [==============================] - 24s 218ms/step - loss: 0.3454 - accuracy: 0.8617 - val_loss: 0.3292 - val_accuracy: 0.8713\n",
            "Epoch 23/500\n",
            "112/112 [==============================] - 24s 217ms/step - loss: 0.3346 - accuracy: 0.8650 - val_loss: 0.3099 - val_accuracy: 0.8747\n",
            "Epoch 24/500\n",
            "112/112 [==============================] - 25s 220ms/step - loss: 0.3353 - accuracy: 0.8633 - val_loss: 0.2982 - val_accuracy: 0.8804\n",
            "Epoch 25/500\n",
            "112/112 [==============================] - 24s 219ms/step - loss: 0.3244 - accuracy: 0.8647 - val_loss: 0.3265 - val_accuracy: 0.8738\n",
            "Epoch 26/500\n",
            "112/112 [==============================] - 24s 219ms/step - loss: 0.3287 - accuracy: 0.8671 - val_loss: 0.3325 - val_accuracy: 0.8679\n",
            "Epoch 27/500\n",
            "112/112 [==============================] - 24s 218ms/step - loss: 0.3298 - accuracy: 0.8713 - val_loss: 0.3253 - val_accuracy: 0.8656\n",
            "Epoch 28/500\n",
            "112/112 [==============================] - 25s 220ms/step - loss: 0.3225 - accuracy: 0.8688 - val_loss: 0.2957 - val_accuracy: 0.8772\n",
            "Epoch 29/500\n",
            "112/112 [==============================] - 24s 219ms/step - loss: 0.3147 - accuracy: 0.8736 - val_loss: 0.2955 - val_accuracy: 0.8792\n",
            "Epoch 30/500\n",
            "112/112 [==============================] - 25s 219ms/step - loss: 0.3041 - accuracy: 0.8772 - val_loss: 0.2946 - val_accuracy: 0.8843\n",
            "Epoch 31/500\n",
            "112/112 [==============================] - 24s 218ms/step - loss: 0.3315 - accuracy: 0.8712 - val_loss: 0.2969 - val_accuracy: 0.8824\n",
            "Epoch 32/500\n",
            "112/112 [==============================] - 24s 216ms/step - loss: 0.3064 - accuracy: 0.8779 - val_loss: 0.2919 - val_accuracy: 0.8798\n",
            "Epoch 33/500\n",
            "112/112 [==============================] - 24s 218ms/step - loss: 0.3326 - accuracy: 0.8670 - val_loss: 0.2921 - val_accuracy: 0.8858\n",
            "Epoch 34/500\n",
            "112/112 [==============================] - 24s 218ms/step - loss: 0.3202 - accuracy: 0.8745 - val_loss: 0.3083 - val_accuracy: 0.8801\n",
            "Epoch 35/500\n",
            "112/112 [==============================] - 24s 219ms/step - loss: 0.3050 - accuracy: 0.8785 - val_loss: 0.2972 - val_accuracy: 0.8750\n",
            "Epoch 36/500\n",
            "112/112 [==============================] - 24s 218ms/step - loss: 0.3133 - accuracy: 0.8733 - val_loss: 0.3270 - val_accuracy: 0.8627\n",
            "Epoch 37/500\n",
            "112/112 [==============================] - 24s 217ms/step - loss: 0.2936 - accuracy: 0.8785 - val_loss: 0.3035 - val_accuracy: 0.8741\n",
            "Epoch 38/500\n",
            "112/112 [==============================] - 24s 217ms/step - loss: 0.3021 - accuracy: 0.8794 - val_loss: 0.2784 - val_accuracy: 0.8809\n",
            "Epoch 39/500\n",
            "112/112 [==============================] - 24s 218ms/step - loss: 0.2906 - accuracy: 0.8887 - val_loss: 0.3055 - val_accuracy: 0.8792\n",
            "Epoch 40/500\n",
            "112/112 [==============================] - 24s 218ms/step - loss: 0.2890 - accuracy: 0.8838 - val_loss: 0.3322 - val_accuracy: 0.8573\n",
            "Epoch 41/500\n",
            "112/112 [==============================] - 24s 218ms/step - loss: 0.2953 - accuracy: 0.8828 - val_loss: 0.2849 - val_accuracy: 0.8869\n",
            "Epoch 42/500\n",
            "112/112 [==============================] - 24s 216ms/step - loss: 0.2835 - accuracy: 0.8878 - val_loss: 0.2844 - val_accuracy: 0.8869\n",
            "Epoch 43/500\n",
            "112/112 [==============================] - 24s 217ms/step - loss: 0.2928 - accuracy: 0.8822 - val_loss: 0.2831 - val_accuracy: 0.8897\n",
            "Epoch 44/500\n",
            "112/112 [==============================] - 24s 218ms/step - loss: 0.2987 - accuracy: 0.8785 - val_loss: 0.3011 - val_accuracy: 0.8815\n",
            "Epoch 45/500\n",
            "112/112 [==============================] - 24s 218ms/step - loss: 0.3044 - accuracy: 0.8787 - val_loss: 0.2826 - val_accuracy: 0.8863\n",
            "Epoch 46/500\n",
            "112/112 [==============================] - 24s 218ms/step - loss: 0.2838 - accuracy: 0.8884 - val_loss: 0.2826 - val_accuracy: 0.8869\n",
            "Epoch 47/500\n",
            "112/112 [==============================] - 24s 217ms/step - loss: 0.2768 - accuracy: 0.8927 - val_loss: 0.2643 - val_accuracy: 0.9014\n",
            "Epoch 48/500\n",
            "112/112 [==============================] - 24s 217ms/step - loss: 0.2695 - accuracy: 0.8933 - val_loss: 0.3281 - val_accuracy: 0.8636\n",
            "Epoch 49/500\n",
            "112/112 [==============================] - 24s 217ms/step - loss: 0.2831 - accuracy: 0.8867 - val_loss: 0.2639 - val_accuracy: 0.9000\n",
            "Epoch 50/500\n",
            "112/112 [==============================] - 24s 217ms/step - loss: 0.2747 - accuracy: 0.8897 - val_loss: 0.3147 - val_accuracy: 0.8764\n",
            "Epoch 51/500\n",
            "112/112 [==============================] - 24s 217ms/step - loss: 0.2680 - accuracy: 0.8941 - val_loss: 0.2634 - val_accuracy: 0.8932\n",
            "Epoch 52/500\n",
            "112/112 [==============================] - 24s 216ms/step - loss: 0.2716 - accuracy: 0.8940 - val_loss: 0.3011 - val_accuracy: 0.8841\n",
            "Epoch 53/500\n",
            "112/112 [==============================] - 24s 217ms/step - loss: 0.2687 - accuracy: 0.8940 - val_loss: 0.2666 - val_accuracy: 0.8951\n",
            "Epoch 54/500\n",
            "112/112 [==============================] - 24s 218ms/step - loss: 0.2809 - accuracy: 0.8891 - val_loss: 0.2836 - val_accuracy: 0.8849\n",
            "Epoch 55/500\n",
            "112/112 [==============================] - 25s 220ms/step - loss: 0.2657 - accuracy: 0.8985 - val_loss: 0.2606 - val_accuracy: 0.8983\n",
            "Epoch 56/500\n",
            "112/112 [==============================] - 24s 216ms/step - loss: 0.2657 - accuracy: 0.8965 - val_loss: 0.2721 - val_accuracy: 0.8960\n",
            "Epoch 57/500\n",
            "112/112 [==============================] - 24s 217ms/step - loss: 0.2489 - accuracy: 0.9059 - val_loss: 0.2605 - val_accuracy: 0.8986\n",
            "Epoch 58/500\n",
            "112/112 [==============================] - 24s 218ms/step - loss: 0.2413 - accuracy: 0.9048 - val_loss: 0.2902 - val_accuracy: 0.8863\n",
            "Epoch 59/500\n",
            "112/112 [==============================] - 24s 217ms/step - loss: 0.2704 - accuracy: 0.8939 - val_loss: 0.3191 - val_accuracy: 0.8693\n",
            "Epoch 60/500\n",
            "112/112 [==============================] - 24s 216ms/step - loss: 0.2513 - accuracy: 0.9011 - val_loss: 0.2754 - val_accuracy: 0.8900\n",
            "Epoch 61/500\n",
            "112/112 [==============================] - 24s 217ms/step - loss: 0.2484 - accuracy: 0.9024 - val_loss: 0.2716 - val_accuracy: 0.8951\n",
            "Epoch 62/500\n",
            "112/112 [==============================] - 24s 217ms/step - loss: 0.2510 - accuracy: 0.8990 - val_loss: 0.2859 - val_accuracy: 0.8951\n",
            "Epoch 63/500\n",
            "112/112 [==============================] - 24s 217ms/step - loss: 0.2467 - accuracy: 0.9039 - val_loss: 0.3065 - val_accuracy: 0.8863\n",
            "Epoch 64/500\n",
            "112/112 [==============================] - 24s 218ms/step - loss: 0.2506 - accuracy: 0.9006 - val_loss: 0.2585 - val_accuracy: 0.9020\n",
            "Epoch 65/500\n",
            "112/112 [==============================] - 25s 219ms/step - loss: 0.2536 - accuracy: 0.9009 - val_loss: 0.2579 - val_accuracy: 0.9017\n",
            "Epoch 66/500\n",
            "112/112 [==============================] - 24s 218ms/step - loss: 0.2469 - accuracy: 0.9035 - val_loss: 0.2512 - val_accuracy: 0.9068\n",
            "Epoch 67/500\n",
            "112/112 [==============================] - 24s 216ms/step - loss: 0.2621 - accuracy: 0.9011 - val_loss: 0.2583 - val_accuracy: 0.8980\n",
            "Epoch 68/500\n",
            "112/112 [==============================] - 24s 218ms/step - loss: 0.2451 - accuracy: 0.9046 - val_loss: 0.2556 - val_accuracy: 0.8988\n",
            "Epoch 69/500\n",
            "112/112 [==============================] - 25s 222ms/step - loss: 0.2417 - accuracy: 0.9037 - val_loss: 0.2908 - val_accuracy: 0.8937\n",
            "Epoch 70/500\n",
            "112/112 [==============================] - 25s 222ms/step - loss: 0.2478 - accuracy: 0.9031 - val_loss: 0.3218 - val_accuracy: 0.8832\n",
            "Epoch 71/500\n",
            "112/112 [==============================] - 25s 220ms/step - loss: 0.2503 - accuracy: 0.9004 - val_loss: 0.2693 - val_accuracy: 0.8968\n",
            "Epoch 72/500\n",
            "112/112 [==============================] - 24s 219ms/step - loss: 0.2394 - accuracy: 0.9060 - val_loss: 0.2813 - val_accuracy: 0.8923\n",
            "Epoch 73/500\n",
            "112/112 [==============================] - 24s 217ms/step - loss: 0.2418 - accuracy: 0.9069 - val_loss: 0.2652 - val_accuracy: 0.8943\n",
            "Epoch 74/500\n",
            "112/112 [==============================] - 24s 219ms/step - loss: 0.2478 - accuracy: 0.9010 - val_loss: 0.2594 - val_accuracy: 0.9022\n",
            "Epoch 75/500\n",
            "112/112 [==============================] - 24s 217ms/step - loss: 0.2400 - accuracy: 0.9056 - val_loss: 0.2663 - val_accuracy: 0.9011\n",
            "Epoch 76/500\n",
            "112/112 [==============================] - 24s 217ms/step - loss: 0.2396 - accuracy: 0.9086 - val_loss: 0.2891 - val_accuracy: 0.8895\n",
            "Epoch 77/500\n",
            "112/112 [==============================] - 24s 219ms/step - loss: 0.2359 - accuracy: 0.9080 - val_loss: 0.2901 - val_accuracy: 0.8940\n",
            "Epoch 78/500\n",
            "112/112 [==============================] - 24s 218ms/step - loss: 0.2313 - accuracy: 0.9146 - val_loss: 0.2674 - val_accuracy: 0.9011\n",
            "Epoch 79/500\n",
            "112/112 [==============================] - 24s 219ms/step - loss: 0.2235 - accuracy: 0.9114 - val_loss: 0.2428 - val_accuracy: 0.9099\n",
            "Epoch 80/500\n",
            "112/112 [==============================] - 24s 218ms/step - loss: 0.2216 - accuracy: 0.9144 - val_loss: 0.3005 - val_accuracy: 0.8821\n",
            "Epoch 81/500\n",
            "112/112 [==============================] - 25s 220ms/step - loss: 0.2256 - accuracy: 0.9112 - val_loss: 0.2509 - val_accuracy: 0.9051\n",
            "Epoch 82/500\n",
            "112/112 [==============================] - 24s 217ms/step - loss: 0.2397 - accuracy: 0.9060 - val_loss: 0.2504 - val_accuracy: 0.9085\n",
            "Epoch 83/500\n",
            "112/112 [==============================] - 24s 217ms/step - loss: 0.2347 - accuracy: 0.9086 - val_loss: 0.2886 - val_accuracy: 0.8875\n",
            "Epoch 84/500\n",
            "112/112 [==============================] - 24s 217ms/step - loss: 0.2251 - accuracy: 0.9090 - val_loss: 0.2327 - val_accuracy: 0.9099\n",
            "Epoch 85/500\n",
            "112/112 [==============================] - 24s 218ms/step - loss: 0.2391 - accuracy: 0.9080 - val_loss: 0.2711 - val_accuracy: 0.9031\n",
            "Epoch 86/500\n",
            "112/112 [==============================] - 24s 218ms/step - loss: 0.2400 - accuracy: 0.9067 - val_loss: 0.2657 - val_accuracy: 0.8997\n",
            "Epoch 87/500\n",
            "112/112 [==============================] - 25s 220ms/step - loss: 0.2285 - accuracy: 0.9083 - val_loss: 0.2490 - val_accuracy: 0.9091\n",
            "Epoch 88/500\n",
            "112/112 [==============================] - 25s 220ms/step - loss: 0.2164 - accuracy: 0.9135 - val_loss: 0.2641 - val_accuracy: 0.8994\n",
            "Epoch 89/500\n",
            "112/112 [==============================] - 24s 219ms/step - loss: 0.2255 - accuracy: 0.9118 - val_loss: 0.2630 - val_accuracy: 0.9088\n",
            "Epoch 90/500\n",
            "112/112 [==============================] - 24s 219ms/step - loss: 0.2132 - accuracy: 0.9192 - val_loss: 0.2623 - val_accuracy: 0.9091\n",
            "Epoch 91/500\n",
            "112/112 [==============================] - 24s 219ms/step - loss: 0.2199 - accuracy: 0.9189 - val_loss: 0.2528 - val_accuracy: 0.9008\n",
            "Epoch 92/500\n",
            "112/112 [==============================] - 24s 217ms/step - loss: 0.2115 - accuracy: 0.9136 - val_loss: 0.2561 - val_accuracy: 0.9113\n",
            "Epoch 93/500\n",
            "112/112 [==============================] - 25s 220ms/step - loss: 0.2245 - accuracy: 0.9118 - val_loss: 0.2591 - val_accuracy: 0.9014\n",
            "Epoch 94/500\n",
            "112/112 [==============================] - 24s 219ms/step - loss: 0.2190 - accuracy: 0.9130 - val_loss: 0.2480 - val_accuracy: 0.9062\n",
            "Epoch 95/500\n",
            "112/112 [==============================] - 24s 218ms/step - loss: 0.2141 - accuracy: 0.9170 - val_loss: 0.2646 - val_accuracy: 0.9045\n",
            "Epoch 96/500\n",
            "112/112 [==============================] - 25s 220ms/step - loss: 0.2185 - accuracy: 0.9115 - val_loss: 0.2652 - val_accuracy: 0.8968\n",
            "Epoch 97/500\n",
            "112/112 [==============================] - 24s 218ms/step - loss: 0.2383 - accuracy: 0.9091 - val_loss: 0.2505 - val_accuracy: 0.8997\n",
            "Epoch 98/500\n",
            "112/112 [==============================] - 24s 218ms/step - loss: 0.2135 - accuracy: 0.9195 - val_loss: 0.2350 - val_accuracy: 0.9105\n",
            "Epoch 99/500\n",
            "112/112 [==============================] - 24s 219ms/step - loss: 0.2220 - accuracy: 0.9144 - val_loss: 0.3563 - val_accuracy: 0.8721\n",
            "Epoch 100/500\n",
            "112/112 [==============================] - 25s 220ms/step - loss: 0.2235 - accuracy: 0.9163 - val_loss: 0.2611 - val_accuracy: 0.9022\n",
            "Epoch 101/500\n",
            "112/112 [==============================] - 24s 218ms/step - loss: 0.2488 - accuracy: 0.9032 - val_loss: 0.3004 - val_accuracy: 0.8934\n",
            "Epoch 102/500\n",
            "112/112 [==============================] - 24s 218ms/step - loss: 0.2183 - accuracy: 0.9158 - val_loss: 0.2712 - val_accuracy: 0.9065\n",
            "Epoch 103/500\n",
            "112/112 [==============================] - 24s 218ms/step - loss: 0.2158 - accuracy: 0.9133 - val_loss: 0.2567 - val_accuracy: 0.9020\n",
            "Epoch 104/500\n",
            "112/112 [==============================] - ETA: 0s - loss: 0.1983 - accuracy: 0.9220\n",
            "Reached 92.0 accuracy and 20.0 loss , so stopping training!!\n",
            "112/112 [==============================] - 24s 217ms/step - loss: 0.1983 - accuracy: 0.9220 - val_loss: 0.2716 - val_accuracy: 0.9054\n"
          ]
        }
      ],
      "source": [
        "history=model.fit(\n",
        "    datagen.flow(X_train, y_train, batch_size=64),\n",
        "    validation_data =datagen.flow(X_test, y_test, batch_size=64),\n",
        "    verbose=1,\n",
        "    epochs=500,\n",
        "    callbacks = callback\n",
        ")"
      ]
    },
    {
      "cell_type": "code",
      "execution_count": 27,
      "metadata": {
        "id": "s8OJySwLEUGi",
        "colab": {
          "base_uri": "https://localhost:8080/"
        },
        "outputId": "4208ecf2-7c0b-4fae-c519-530bda3bde3a"
      },
      "outputs": [
        {
          "output_type": "stream",
          "name": "stdout",
          "text": [
            "59/59 [==============================] - 1s 13ms/step - loss: 2.8631 - accuracy: 0.3471\n"
          ]
        },
        {
          "output_type": "execute_result",
          "data": {
            "text/plain": [
              "[2.8630712032318115, 0.34708088636398315]"
            ]
          },
          "metadata": {},
          "execution_count": 27
        }
      ],
      "source": [
        "model.evaluate(Image_validation,labels_validation)"
      ]
    },
    {
      "cell_type": "code",
      "execution_count": 28,
      "metadata": {
        "id": "l6S5Roh5emq_",
        "colab": {
          "base_uri": "https://localhost:8080/",
          "height": 313
        },
        "outputId": "5b0eeaae-a237-4c10-970a-04b95530463b"
      },
      "outputs": [
        {
          "output_type": "execute_result",
          "data": {
            "text/plain": [
              "Text(0.5, 0, 'epoch')"
            ]
          },
          "metadata": {},
          "execution_count": 28
        },
        {
          "output_type": "display_data",
          "data": {
            "text/plain": [
              "<Figure size 432x288 with 1 Axes>"
            ],
            "image/png": "[encoded data removed]"
          },
          "metadata": {
            "needs_background": "light"
          }
        }
      ],
      "source": [
        "plt.plot(history.history['loss'])\n",
        "plt.plot(history.history['val_loss'])\n",
        "plt.legend(['loss','val_loss'])\n",
        "plt.title('Loss')\n",
        "plt.xlabel('epoch')"
      ]
    },
    {
      "cell_type": "code",
      "execution_count": 29,
      "metadata": {
        "id": "Zlh_kRiNesdt",
        "colab": {
          "base_uri": "https://localhost:8080/",
          "height": 313
        },
        "outputId": "e06819ff-ec23-43f2-d254-e6f3b4af237d"
      },
      "outputs": [
        {
          "output_type": "execute_result",
          "data": {
            "text/plain": [
              "Text(0.5, 0, 'epoch')"
            ]
          },
          "metadata": {},
          "execution_count": 29
        },
        {
          "output_type": "display_data",
          "data": {
            "text/plain": [
              "<Figure size 432x288 with 1 Axes>"
            ],
            "image/png": "[encoded data removed]"
          },
          "metadata": {
            "needs_background": "light"
          }
        }
      ],
      "source": [
        "plt.plot(history.history['accuracy'])\n",
        "plt.plot(history.history['val_accuracy'])\n",
        "plt.legend(['accuracy','val_accuracy'])\n",
        "plt.title('Accuracy')\n",
        "plt.xlabel('epoch')"
      ]
    },
    {
      "cell_type": "code",
      "execution_count": 30,
      "metadata": {
        "id": "gWsbh10KfEPd"
      },
      "outputs": [],
      "source": [
        "import json\n",
        "\n",
        "# lets assume `model` is main model \n",
        "model_json = model.to_json()\n",
        "with open(\"model_in_json_Leukemia_Classification.json\", \"w\") as json_file:\n",
        "    json.dump(model_json, json_file)\n",
        "\n",
        "model.save_weights(\"Leukemia_Classification.h5\")"
      ]
    },
    {
      "cell_type": "code",
      "execution_count": 31,
      "metadata": {
        "id": "WXwcSxL16hal",
        "colab": {
          "base_uri": "https://localhost:8080/",
          "height": 110
        },
        "outputId": "d08029d2-1f4a-4a68-998b-f6cee7262c9b"
      },
      "outputs": [
        {
          "output_type": "display_data",
          "data": {
            "text/plain": [
              "<IPython.core.display.HTML object>"
            ],
            "text/html": [
              "\n",
              "     <input type=\"file\" id=\"files-53820c6b-47a9-4332-956e-4e1410cb232e\" name=\"files[]\" multiple disabled\n",
              "        style=\"border:none\" />\n",
              "     <output id=\"result-53820c6b-47a9-4332-956e-4e1410cb232e\">\n",
              "      Upload widget is only available when the cell has been executed in the\n",
              "      current browser session. Please rerun this cell to enable.\n",
              "      </output>\n",
              "      <script>// Copyright 2017 Google LLC\n",
              "//\n",
              "// Licensed under the Apache License, Version 2.0 (the \"License\");\n",
              "// you may not use this file except in compliance with the License.\n",
              "// You may obtain a copy of the License at\n",
              "//\n",
              "//      http://www.apache.org/licenses/LICENSE-2.0\n",
              "//\n",
              "// Unless required by applicable law or agreed to in writing, software\n",
              "// distributed under the License is distributed on an \"AS IS\" BASIS,\n",
              "// WITHOUT WARRANTIES OR CONDITIONS OF ANY KIND, either express or implied.\n",
              "// See the License for the specific language governing permissions and\n",
              "// limitations under the License.\n",
              "\n",
              "/**\n",
              " * @fileoverview Helpers for google.colab Python module.\n",
              " */\n",
              "(function(scope) {\n",
              "function span(text, styleAttributes = {}) {\n",
              "  const element = document.createElement('span');\n",
              "  element.textContent = text;\n",
              "  for (const key of Object.keys(styleAttributes)) {\n",
              "    element.style[key] = styleAttributes[key];\n",
              "  }\n",
              "  return element;\n",
              "}\n",
              "\n",
              "// Max number of bytes which will be uploaded at a time.\n",
              "const MAX_PAYLOAD_SIZE = 100 * 1024;\n",
              "\n",
              "function _uploadFiles(inputId, outputId) {\n",
              "  const steps = uploadFilesStep(inputId, outputId);\n",
              "  const outputElement = document.getElementById(outputId);\n",
              "  // Cache steps on the outputElement to make it available for the next call\n",
              "  // to uploadFilesContinue from Python.\n",
              "  outputElement.steps = steps;\n",
              "\n",
              "  return _uploadFilesContinue(outputId);\n",
              "}\n",
              "\n",
              "// This is roughly an async generator (not supported in the browser yet),\n",
              "// where there are multiple asynchronous steps and the Python side is going\n",
              "// to poll for completion of each step.\n",
              "// This uses a Promise to block the python side on completion of each step,\n",
              "// then passes the result of the previous step as the input to the next step.\n",
              "function _uploadFilesContinue(outputId) {\n",
              "  const outputElement = document.getElementById(outputId);\n",
              "  const steps = outputElement.steps;\n",
              "\n",
              "  const next = steps.next(outputElement.lastPromiseValue);\n",
              "  return Promise.resolve(next.value.promise).then((value) => {\n",
              "    // Cache the last promise value to make it available to the next\n",
              "    // step of the generator.\n",
              "    outputElement.lastPromiseValue = value;\n",
              "    return next.value.response;\n",
              "  });\n",
              "}\n",
              "\n",
              "/**\n",
              " * Generator function which is called between each async step of the upload\n",
              " * process.\n",
              " * @param {string} inputId Element ID of the input file picker element.\n",
              " * @param {string} outputId Element ID of the output display.\n",
              " * @return {!Iterable<!Object>} Iterable of next steps.\n",
              " */\n",
              "function* uploadFilesStep(inputId, outputId) {\n",
              "  const inputElement = document.getElementById(inputId);\n",
              "  inputElement.disabled = false;\n",
              "\n",
              "  const outputElement = document.getElementById(outputId);\n",
              "  outputElement.innerHTML = '';\n",
              "\n",
              "  const pickedPromise = new Promise((resolve) => {\n",
              "    inputElement.addEventListener('change', (e) => {\n",
              "      resolve(e.target.files);\n",
              "    });\n",
              "  });\n",
              "\n",
              "  const cancel = document.createElement('button');\n",
              "  inputElement.parentElement.appendChild(cancel);\n",
              "  cancel.textContent = 'Cancel upload';\n",
              "  const cancelPromise = new Promise((resolve) => {\n",
              "    cancel.onclick = () => {\n",
              "      resolve(null);\n",
              "    };\n",
              "  });\n",
              "\n",
              "  // Wait for the user to pick the files.\n",
              "  const files = yield {\n",
              "    promise: Promise.race([pickedPromise, cancelPromise]),\n",
              "    response: {\n",
              "      action: 'starting',\n",
              "    }\n",
              "  };\n",
              "\n",
              "  cancel.remove();\n",
              "\n",
              "  // Disable the input element since further picks are not allowed.\n",
              "  inputElement.disabled = true;\n",
              "\n",
              "  if (!files) {\n",
              "    return {\n",
              "      response: {\n",
              "        action: 'complete',\n",
              "      }\n",
              "    };\n",
              "  }\n",
              "\n",
              "  for (const file of files) {\n",
              "    const li = document.createElement('li');\n",
              "    li.append(span(file.name, {fontWeight: 'bold'}));\n",
              "    li.append(span(\n",
              "        `(${file.type || 'n/a'}) - ${file.size} bytes, ` +\n",
              "        `last modified: ${\n",
              "            file.lastModifiedDate ? file.lastModifiedDate.toLocaleDateString() :\n",
              "                                    'n/a'} - `));\n",
              "    const percent = span('0% done');\n",
              "    li.appendChild(percent);\n",
              "\n",
              "    outputElement.appendChild(li);\n",
              "\n",
              "    const fileDataPromise = new Promise((resolve) => {\n",
              "      const reader = new FileReader();\n",
              "      reader.onload = (e) => {\n",
              "        resolve(e.target.result);\n",
              "      };\n",
              "      reader.readAsArrayBuffer(file);\n",
              "    });\n",
              "    // Wait for the data to be ready.\n",
              "    let fileData = yield {\n",
              "      promise: fileDataPromise,\n",
              "      response: {\n",
              "        action: 'continue',\n",
              "      }\n",
              "    };\n",
              "\n",
              "    // Use a chunked sending to avoid message size limits. See b/62115660.\n",
              "    let position = 0;\n",
              "    do {\n",
              "      const length = Math.min(fileData.byteLength - position, MAX_PAYLOAD_SIZE);\n",
              "      const chunk = new Uint8Array(fileData, position, length);\n",
              "      position += length;\n",
              "\n",
              "      const base64 = btoa(String.fromCharCode.apply(null, chunk));\n",
              "      yield {\n",
              "        response: {\n",
              "          action: 'append',\n",
              "          file: file.name,\n",
              "          data: base64,\n",
              "        },\n",
              "      };\n",
              "\n",
              "      let percentDone = fileData.byteLength === 0 ?\n",
              "          100 :\n",
              "          Math.round((position / fileData.byteLength) * 100);\n",
              "      percent.textContent = `${percentDone}% done`;\n",
              "\n",
              "    } while (position < fileData.byteLength);\n",
              "  }\n",
              "\n",
              "  // All done.\n",
              "  yield {\n",
              "    response: {\n",
              "      action: 'complete',\n",
              "    }\n",
              "  };\n",
              "}\n",
              "\n",
              "scope.google = scope.google || {};\n",
              "scope.google.colab = scope.google.colab || {};\n",
              "scope.google.colab._files = {\n",
              "  _uploadFiles,\n",
              "  _uploadFilesContinue,\n",
              "};\n",
              "})(self);\n",
              "</script> "
            ]
          },
          "metadata": {}
        },
        {
          "output_type": "stream",
          "name": "stdout",
          "text": [
            "Saving download (1).jpg to download (1).jpg\n",
            "1/1 [==============================] - 0s 229ms/step\n",
            "the cells are normal with [[0.03469405]] model precentage in prediction\n"
          ]
        }
      ],
      "source": [
        "from google.colab import files\n",
        "uploaded = files.upload()\n",
        "for k, v in uploaded.items():\n",
        "    open(k, 'wb').write(v)\n",
        "Image = cv2.imread(k)\n",
        "Image = cv2.resize(Image,(100,100))\n",
        "Image = Image.astype('uint8')\n",
        "Image = Image/255\n",
        "Image = np.expand_dims(Image,axis=0)\n",
        "predict = model.predict(Image)\n",
        "if predict > 0.5:\n",
        "  print(\"the cells have ALL with {} model precentage in prediction\".format(predict))\n",
        "else: \n",
        "  print(\"the cells are normal with {} model precentage in prediction\".format(predict))"
      ]
    }
  ],
  "metadata": {
    "accelerator": "GPU",
    "colab": {
      "collapsed_sections": [],
      "provenance": [],
      "authorship_tag": "ABX9TyO2Sdgr9FFpVvUJCFD+IR2Q",
      "include_colab_link": true
    },
    "gpuClass": "standard",
    "kernelspec": {
      "display_name": "Python 3",
      "name": "python3"
    },
    "language_info": {
      "name": "python"
    }
  },
  "nbformat": 4,
  "nbformat_minor": 0
}